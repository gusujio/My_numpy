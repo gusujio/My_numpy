{
 "cells": [
  {
   "cell_type": "markdown",
   "metadata": {},
   "source": [
    "## Свой numpy\n",
    "\n",
    "код написан с рекомендациями pep"
   ]
  },
  {
   "cell_type": "code",
   "execution_count": 1,
   "metadata": {},
   "outputs": [],
   "source": [
    "import numpy as np"
   ]
  },
  {
   "cell_type": "code",
   "execution_count": 2,
   "metadata": {},
   "outputs": [],
   "source": [
    "# pip install pycodestyle flake8 pycodestyle_magic"
   ]
  },
  {
   "cell_type": "code",
   "execution_count": 3,
   "metadata": {},
   "outputs": [],
   "source": [
    "%load_ext pycodestyle_magic"
   ]
  },
  {
   "cell_type": "code",
   "execution_count": 4,
   "metadata": {},
   "outputs": [],
   "source": [
    "%%pycodestyle\n",
    "\n",
    "a = 1 '# eee'\n",
    "s = 2"
   ]
  },
  {
   "cell_type": "code",
   "execution_count": 170,
   "metadata": {},
   "outputs": [],
   "source": [
    "# %%pycodestyle\n",
    "\n",
    "class Array(list):\n",
    "    \"\"\"Сложение, когда аргумент слева\"\"\"\n",
    "    def __add__(self, other):\n",
    "        if isinstance(other, (int, float)):\n",
    "            return Array([x + other for x in self])\n",
    "        elif isinstance(other, (Array, list, tuple)):\n",
    "            if len(self) != len(other):\n",
    "                raise ValueError('Сложение векторов разной длины недопустимо')\n",
    "            else:\n",
    "                return Array([x + y for x, y in zip(self, other)])\n",
    "        else:\n",
    "            raise TypeError(f\"Вектор нельзя сложить с {other}\")\n",
    "    \"\"\"Сложение, когда аргумент справа\"\"\"\n",
    "    def __radd__(self, other):\n",
    "        return self + other\n",
    "\n",
    "    \"\"\"Вычитание, когда аргумент слева\"\"\"\n",
    "    def __sub__(self, other):\n",
    "        return self.sub(other, 'left')\n",
    "    \"\"\"Вычитание, когда аргумент справа\"\"\"\n",
    "    def __rsub__(self, other):\n",
    "        return self.sub(other, 'right')\n",
    "\n",
    "    def sub(self, other, flag):\n",
    "        if isinstance(other, (int, float)):\n",
    "            if flag == 'left':\n",
    "                return Array([x - other for x in self])\n",
    "            elif flag == 'right':\n",
    "                return Array([other - x for x in self])\n",
    "        elif isinstance(other, (Array, list, tuple)):\n",
    "            if len(self) != len(other):\n",
    "                raise ValueError('Вычитание векторов разной длины недопустимо')\n",
    "            else:\n",
    "                return Array([x - y for x, y in zip(self, other)])\n",
    "        else:\n",
    "            raise TypeError(f\"Вектор нельзя вычисть с {other}\")\n",
    "\n",
    "    \"\"\"Умножение, когда аргумент слева\"\"\"\n",
    "    def __mul__(self, other):\n",
    "        if isinstance(other, (int, float)):\n",
    "            return Array([x * other for x in self])\n",
    "        elif isinstance(other, (Array, list, tuple)):\n",
    "            if len(self) != len(other):\n",
    "                raise ValueError('Умножение векторов разной длины недопустимо')\n",
    "            else:\n",
    "                return Array([x * y for x, y in zip(self, other)])\n",
    "        else:\n",
    "            raise TypeError(f\"Вектор нельзя умножить с {other}\")\n",
    "    \"\"\"Умножение, когда аргумент справа\"\"\"\n",
    "    def __rmul__(self, other):\n",
    "        return self * other\n",
    "\n",
    "    \"\"\"Деление, когда аргумент слева\"\"\"\n",
    "    def __truediv__(self, other):\n",
    "        return self.truediv(other, 'left')\n",
    "    \"\"\"Деление, когда аргумент справа\"\"\"\n",
    "    def __rtruediv__(self, other):\n",
    "        return self.truediv(other, 'right')\n",
    "\n",
    "    def truediv(self, other, flag):\n",
    "        if isinstance(other, (int, float)):\n",
    "            if flag == 'left':\n",
    "                return Array([x / other for x in self])\n",
    "            elif flag == 'right':\n",
    "                return Array([other / x for x in self])\n",
    "        elif isinstance(other, (Array, list, tuple)):\n",
    "            if len(self) != len(other):\n",
    "                raise ValueError('Деление векторов разной длины недопустимо')\n",
    "            else:\n",
    "                return Array([x / y for x, y in zip(self, other)])\n",
    "        else:\n",
    "            raise TypeError(f\"Вектор нельзя разделить с {other}\")\n",
    "            \n",
    "    \"\"\"Добавление функционала слайсинга\"\"\"\n",
    "    def __getitem__(self, item):\n",
    "        if type(item) != tuple:\n",
    "            item = super().__getitem__(item)\n",
    "            if isinstance(item, (float, int)):\n",
    "                return item\n",
    "            return Array(item)\n",
    "        else:\n",
    "            if type(item[0]) == slice:\n",
    "                return Array([i[item[1]] for i in self[item[0]]])\n",
    "            else:\n",
    "                while len(item) > 0:\n",
    "                    if isinstance(self, (int, float)):\n",
    "                        raise IndexError('Слишком много индексов для массива этого пространства')\n",
    "                    self = self[item[0]]\n",
    "                    item = item[1:]\n",
    "                return self\n",
    "\n",
    "    \"\"\"Находит min число в Array\"\"\"\n",
    "    def min(self):\n",
    "        while not isinstance(self, (int, float)):\n",
    "            self = min(self)\n",
    "        return self\n",
    "    \"\"\"Находит max число в Array\"\"\"\n",
    "    def max(self):\n",
    "        while not isinstance(self, (int, float)):\n",
    "            self = max(self)\n",
    "        return self\n",
    "    \"\"\"Считает сумму всех чисел в Array\"\"\"\n",
    "    def sum(self):\n",
    "        sums = 0\n",
    "        for i in self:\n",
    "            if isinstance(i, (int, float)):\n",
    "                sums += i\n",
    "            else:\n",
    "                sums += summ(i)\n",
    "        return sums\n",
    "    \"\"\"Считает кол-во всех элементов в Array\"\"\"\n",
    "    def count(self):\n",
    "        counts = 0\n",
    "        for i in self:\n",
    "            if isinstance(i[0], (int, float)):\n",
    "                counts += len(i)\n",
    "            else:\n",
    "                counts += count(i)\n",
    "        return counts\n",
    "    \"\"\"Считает сумму и кол-во всех элементов в Array\"\"\"\n",
    "    def sum_count(self):\n",
    "        counts = 0\n",
    "        sums = 0\n",
    "        for i in self:\n",
    "            if isinstance(i, (int, float)):\n",
    "                counts += 1\n",
    "                sums += i\n",
    "            else:\n",
    "                s, c = Array(i).sum_count()\n",
    "                sums += s\n",
    "                counts += c\n",
    "                \n",
    "        return sums, counts\n",
    "    \"\"\"Считает среднее значение элементов в Array\"\"\"\n",
    "    def mean(self):\n",
    "        s, c = self.sum_count()\n",
    "        return s / c"
   ]
  },
  {
   "cell_type": "markdown",
   "metadata": {},
   "source": [
    "## Тестирование mean, max, count..."
   ]
  },
  {
   "cell_type": "code",
   "execution_count": 171,
   "metadata": {},
   "outputs": [],
   "source": [
    "list1 = [[1,2,3], [4,5,6], [7,8,9]]\n",
    "a = Array(list1)\n",
    "b = np.array(list1)"
   ]
  },
  {
   "cell_type": "code",
   "execution_count": 172,
   "metadata": {},
   "outputs": [
    {
     "data": {
      "text/plain": [
       "True"
      ]
     },
     "execution_count": 172,
     "metadata": {},
     "output_type": "execute_result"
    }
   ],
   "source": [
    "a.min() == b.min()"
   ]
  },
  {
   "cell_type": "code",
   "execution_count": 173,
   "metadata": {},
   "outputs": [
    {
     "data": {
      "text/plain": [
       "True"
      ]
     },
     "execution_count": 173,
     "metadata": {},
     "output_type": "execute_result"
    }
   ],
   "source": [
    "a.max() == b.max()"
   ]
  },
  {
   "cell_type": "code",
   "execution_count": 174,
   "metadata": {},
   "outputs": [
    {
     "data": {
      "text/plain": [
       "True"
      ]
     },
     "execution_count": 174,
     "metadata": {},
     "output_type": "execute_result"
    }
   ],
   "source": [
    "b.mean() == a.mean()"
   ]
  },
  {
   "cell_type": "code",
   "execution_count": 175,
   "metadata": {},
   "outputs": [
    {
     "data": {
      "text/plain": [
       "True"
      ]
     },
     "execution_count": 175,
     "metadata": {},
     "output_type": "execute_result"
    }
   ],
   "source": [
    "a.sum() == b.sum()"
   ]
  },
  {
   "cell_type": "code",
   "execution_count": 176,
   "metadata": {},
   "outputs": [
    {
     "data": {
      "text/plain": [
       "(45, 9)"
      ]
     },
     "execution_count": 176,
     "metadata": {},
     "output_type": "execute_result"
    }
   ],
   "source": [
    "a.sum_count()"
   ]
  },
  {
   "cell_type": "code",
   "execution_count": 179,
   "metadata": {},
   "outputs": [
    {
     "data": {
      "text/plain": [
       "9"
      ]
     },
     "execution_count": 179,
     "metadata": {},
     "output_type": "execute_result"
    }
   ],
   "source": [
    "a.count()"
   ]
  },
  {
   "cell_type": "markdown",
   "metadata": {},
   "source": [
    "## Тестирование арифметики"
   ]
  },
  {
   "cell_type": "code",
   "execution_count": 6,
   "metadata": {},
   "outputs": [],
   "source": [
    "def add(x, y):\n",
    "    return x + y\n",
    "\n",
    "def sub(x, y):\n",
    "    return x - y\n",
    "\n",
    "def mul(x, y):\n",
    "    return x * y\n",
    "\n",
    "def div(x, y):\n",
    "    return x / y"
   ]
  },
  {
   "cell_type": "code",
   "execution_count": 7,
   "metadata": {},
   "outputs": [],
   "source": [
    "a = Array"
   ]
  },
  {
   "cell_type": "code",
   "execution_count": 8,
   "metadata": {},
   "outputs": [
    {
     "name": "stdout",
     "output_type": "stream",
     "text": [
      "0 Ok - a add b\n",
      "0 Ok - b add a\n",
      "\n",
      "0 Ok - a add 3\n",
      "0 Ok - 3 add a\n",
      "\n",
      "1 Ok - a sub b\n",
      "1 Ok - b sub a\n",
      "\n",
      "1 Ok - a sub 3\n",
      "1 Ok - 3 sub a\n",
      "\n",
      "2 Ok - a mul b\n",
      "2 Ok - b mul a\n",
      "\n",
      "2 Ok - a mul 3\n",
      "2 Ok - 3 mul a\n",
      "\n",
      "3 Ok - a div b\n",
      "3 Ok - b div a\n",
      "\n",
      "3 Ok - a div 3\n",
      "3 Ok - 3 div a\n",
      "\n",
      "--------------------\n",
      "Ошибок нет\n"
     ]
    }
   ],
   "source": [
    "list1 = [1,2,3]\n",
    "list2 = [4,5,6]\n",
    "a = Array(list1)\n",
    "a2 = np.array(list1)\n",
    "\n",
    "b = Array(list2)\n",
    "b2 = np.array(list2)\n",
    "\n",
    "cool = True\n",
    "for en, fun in enumerate([add, sub, mul, div]):\n",
    "    if all(fun(a, b) == fun(a2, b2)): \n",
    "        print(f\"{en} Ok - a {str(fun)[10:13]} b\")\n",
    "    else:\n",
    "        cool = False\n",
    "        print(f\"{en} Ko - a {str(fun)[10:13]} b\")\n",
    "        \n",
    "    if all(fun(b, a) == fun(b2, a2)):\n",
    "        print(f\"{en} Ok - b {str(fun)[10:13]} a\\n\")\n",
    "    else:\n",
    "        cool = False\n",
    "        print(f\"{en } Ko - b {str(fun)[10:13]} a\\n\")\n",
    "        \n",
    "    if all(fun(a, 3) == fun(a2, 3)):\n",
    "        print(f\"{en} Ok - a {str(fun)[10:13]} 3\")\n",
    "    else:\n",
    "        cool = False\n",
    "        print(f\"{en} Ko - a {str(fun)[10:13]} 3\")\n",
    "        \n",
    "    if all(fun(3, a) == fun(3, a2)):\n",
    "        print(f\"{en} Ok - 3 {str(fun)[10:13]} a\\n\")\n",
    "    else:\n",
    "        cool = False\n",
    "        print(f\"{en } Ko - 3 {str(fun)[10:13]} a\\n\")\n",
    "    \n",
    "print('--------------------')\n",
    "if cool:\n",
    "    print('Ошибок нет')\n",
    "else:\n",
    "    print('Ошибка!!!!!')"
   ]
  },
  {
   "cell_type": "markdown",
   "metadata": {},
   "source": [
    "## Тестирование слайсинга"
   ]
  },
  {
   "cell_type": "code",
   "execution_count": 9,
   "metadata": {},
   "outputs": [],
   "source": [
    "def slice_intepritator(slices):\n",
    "    if type(slices) == slice:\n",
    "        if slices.start == slices.stop == slices.step == None:\n",
    "            return ':'\n",
    "        elif slices.start == None and slices.stop != None:\n",
    "            return f' : {slices.stop}'\n",
    "        elif slices.start != None and slices.stop == None:\n",
    "            return f'{slices.start} : '\n",
    "        else:\n",
    "            return f'{slices.start} : {slices.stop}'\n",
    "    else:\n",
    "        return slices"
   ]
  },
  {
   "cell_type": "code",
   "execution_count": 10,
   "metadata": {},
   "outputs": [],
   "source": [
    "list1 = [[1,2,3], [4,5,6], [7,8,9]]\n",
    "a = Array(list1)\n",
    "b = np.array(list1)\n",
    "c = list1"
   ]
  },
  {
   "cell_type": "code",
   "execution_count": 11,
   "metadata": {},
   "outputs": [
    {
     "data": {
      "text/plain": [
       "array([[1, 2, 3],\n",
       "       [4, 5, 6],\n",
       "       [7, 8, 9]])"
      ]
     },
     "execution_count": 11,
     "metadata": {},
     "output_type": "execute_result"
    }
   ],
   "source": [
    "b"
   ]
  },
  {
   "cell_type": "code",
   "execution_count": 12,
   "metadata": {},
   "outputs": [
    {
     "name": "stdout",
     "output_type": "stream",
     "text": [
      "array[0 : 2, 1] np: [2 5] my: [2, 5]\n",
      "1 Ok\n",
      "array[0 : 2][1] np: [4 5 6] my: [4, 5, 6]\n",
      "1 Ok \n",
      "\n",
      "array[1, 0 : 2] np: [4 5] my: [4, 5]\n",
      "2 Ok\n",
      "array[1][0 : 2] np: [4 5] my: [4, 5]\n",
      "2 Ok \n",
      "\n",
      "array[0, 1] np: 2 my: 2\n",
      "3 Ok\n",
      "array[0][1] np: 2 my: 2\n",
      "3 Ok \n",
      "\n",
      "array[1, 0] np: 4 my: 4\n",
      "4 Ok\n",
      "array[1][0] np: 4 my: 4\n",
      "4 Ok \n",
      "\n",
      "array[1, :] np: [4 5 6] my: [4, 5, 6]\n",
      "5 Ok\n",
      "array[1][:] np: [4 5 6] my: [4, 5, 6]\n",
      "5 Ok \n",
      "\n",
      "array[:, 1] np: [2 5 8] my: [2, 5, 8]\n",
      "6 Ok\n",
      "array[:][1] np: [4 5 6] my: [4, 5, 6]\n",
      "6 Ok \n",
      "\n",
      "array[1, 1 : ] np: [5 6] my: [5, 6]\n",
      "7 Ok\n",
      "array[1][1 : ] np: [5 6] my: [5, 6]\n",
      "7 Ok \n",
      "\n",
      "array[1 : , 1] np: [5 8] my: [5, 8]\n",
      "8 Ok\n",
      "array[1 : ][1] np: [7 8 9] my: [7, 8, 9]\n",
      "8 Ok \n",
      "\n",
      "--------------------\n",
      "Ошибок нет\n"
     ]
    }
   ],
   "source": [
    "slicesings = [[slice(0, 2), 1], [1, slice(0, 2)], [0, 1], [1, 0], [1, slice(None)],[slice(None), 1],\\\n",
    "              [1,slice(1, None)],[slice(1, None), 1]]\n",
    "cool = True\n",
    "for en, sl in enumerate(slicesings):\n",
    "    print(f'array[{slice_intepritator(sl[0])}, {slice_intepritator(sl[1])}]', 'np:', b[sl[0], sl[1]], 'my:', a[sl[0], sl[1]])\n",
    "    if np.all(b[sl[0], sl[1]] == a[sl[0], sl[1]]):\n",
    "        print(en + 1, 'Ok')\n",
    "    else:\n",
    "        cool = False\n",
    "        print(en + 1, 'Ko', [sl[0], sl[1]])\n",
    "        \n",
    "    print(f'array[{slice_intepritator(sl[0])}][{slice_intepritator(sl[1])}]','np:', b[sl[0]][sl[1]], 'my:', a[sl[0]][sl[1]])\n",
    "    \n",
    "    if np.all(b[sl[0]][sl[1]] == a[sl[0]][sl[1]]):\n",
    "        print(en + 1, 'Ok', '\\n')\n",
    "    else:\n",
    "        cool = False\n",
    "        print(en + 1, 'Ko', [sl[0]][sl[1]], '\\n')\n",
    "print('--------------------')\n",
    "if cool:\n",
    "    print('Ошибок нет')\n",
    "else:\n",
    "    print('Ошибка!!!!!')"
   ]
  },
  {
   "cell_type": "markdown",
   "metadata": {},
   "source": [
    "## Тестирование ошибок"
   ]
  },
  {
   "cell_type": "code",
   "execution_count": 32,
   "metadata": {},
   "outputs": [
    {
     "ename": "ValueError",
     "evalue": "Сложение векторов разной длины недопустимо",
     "output_type": "error",
     "traceback": [
      "\u001b[0;31m---------------------------------------------------------------------------\u001b[0m",
      "\u001b[0;31mValueError\u001b[0m                                Traceback (most recent call last)",
      "\u001b[0;32m<ipython-input-32-8a4cd40dc781>\u001b[0m in \u001b[0;36m<module>\u001b[0;34m\u001b[0m\n\u001b[1;32m      1\u001b[0m \u001b[0ma\u001b[0m \u001b[0;34m=\u001b[0m \u001b[0mArray\u001b[0m\u001b[0;34m(\u001b[0m\u001b[0;34m[\u001b[0m\u001b[0;36m1\u001b[0m\u001b[0;34m,\u001b[0m\u001b[0;36m2\u001b[0m\u001b[0;34m,\u001b[0m\u001b[0;36m3\u001b[0m\u001b[0;34m]\u001b[0m\u001b[0;34m)\u001b[0m\u001b[0;34m\u001b[0m\u001b[0;34m\u001b[0m\u001b[0m\n\u001b[1;32m      2\u001b[0m \u001b[0mb\u001b[0m \u001b[0;34m=\u001b[0m \u001b[0mArray\u001b[0m\u001b[0;34m(\u001b[0m\u001b[0;34m[\u001b[0m\u001b[0;36m4\u001b[0m\u001b[0;34m,\u001b[0m\u001b[0;36m5\u001b[0m\u001b[0;34m,\u001b[0m\u001b[0;36m6\u001b[0m\u001b[0;34m,\u001b[0m\u001b[0;36m7\u001b[0m\u001b[0;34m]\u001b[0m\u001b[0;34m)\u001b[0m\u001b[0;34m\u001b[0m\u001b[0;34m\u001b[0m\u001b[0m\n\u001b[0;32m----> 3\u001b[0;31m \u001b[0mprint\u001b[0m\u001b[0;34m(\u001b[0m\u001b[0ma\u001b[0m \u001b[0;34m+\u001b[0m \u001b[0mb\u001b[0m\u001b[0;34m)\u001b[0m\u001b[0;34m\u001b[0m\u001b[0;34m\u001b[0m\u001b[0m\n\u001b[0m",
      "\u001b[0;32m<ipython-input-26-4c0dddc8d858>\u001b[0m in \u001b[0;36m__add__\u001b[0;34m(self, other)\u001b[0m\n\u001b[1;32m      8\u001b[0m         \u001b[0;32melif\u001b[0m \u001b[0misinstance\u001b[0m\u001b[0;34m(\u001b[0m\u001b[0mother\u001b[0m\u001b[0;34m,\u001b[0m \u001b[0;34m(\u001b[0m\u001b[0mArray\u001b[0m\u001b[0;34m,\u001b[0m \u001b[0mlist\u001b[0m\u001b[0;34m,\u001b[0m \u001b[0mtuple\u001b[0m\u001b[0;34m)\u001b[0m\u001b[0;34m)\u001b[0m\u001b[0;34m:\u001b[0m\u001b[0;34m\u001b[0m\u001b[0;34m\u001b[0m\u001b[0m\n\u001b[1;32m      9\u001b[0m             \u001b[0;32mif\u001b[0m \u001b[0mlen\u001b[0m\u001b[0;34m(\u001b[0m\u001b[0mself\u001b[0m\u001b[0;34m)\u001b[0m \u001b[0;34m!=\u001b[0m \u001b[0mlen\u001b[0m\u001b[0;34m(\u001b[0m\u001b[0mother\u001b[0m\u001b[0;34m)\u001b[0m\u001b[0;34m:\u001b[0m\u001b[0;34m\u001b[0m\u001b[0;34m\u001b[0m\u001b[0m\n\u001b[0;32m---> 10\u001b[0;31m                 \u001b[0;32mraise\u001b[0m \u001b[0mValueError\u001b[0m\u001b[0;34m(\u001b[0m\u001b[0;34m'Сложение векторов разной длины недопустимо'\u001b[0m\u001b[0;34m)\u001b[0m\u001b[0;34m\u001b[0m\u001b[0;34m\u001b[0m\u001b[0m\n\u001b[0m\u001b[1;32m     11\u001b[0m             \u001b[0;32melse\u001b[0m\u001b[0;34m:\u001b[0m\u001b[0;34m\u001b[0m\u001b[0;34m\u001b[0m\u001b[0m\n\u001b[1;32m     12\u001b[0m                 \u001b[0;32mreturn\u001b[0m \u001b[0mArray\u001b[0m\u001b[0;34m(\u001b[0m\u001b[0;34m[\u001b[0m\u001b[0mx\u001b[0m \u001b[0;34m+\u001b[0m \u001b[0my\u001b[0m \u001b[0;32mfor\u001b[0m \u001b[0mx\u001b[0m\u001b[0;34m,\u001b[0m \u001b[0my\u001b[0m \u001b[0;32min\u001b[0m \u001b[0mzip\u001b[0m\u001b[0;34m(\u001b[0m\u001b[0mself\u001b[0m\u001b[0;34m,\u001b[0m \u001b[0mother\u001b[0m\u001b[0;34m)\u001b[0m\u001b[0;34m]\u001b[0m\u001b[0;34m)\u001b[0m\u001b[0;34m\u001b[0m\u001b[0;34m\u001b[0m\u001b[0m\n",
      "\u001b[0;31mValueError\u001b[0m: Сложение векторов разной длины недопустимо"
     ]
    }
   ],
   "source": [
    "a = Array([1,2,3])\n",
    "b = Array([4,5,6,7])\n",
    "print(a + b)"
   ]
  },
  {
   "cell_type": "code",
   "execution_count": 33,
   "metadata": {},
   "outputs": [
    {
     "ename": "TypeError",
     "evalue": "Вектор нельзя сложить с <class 'dict'>",
     "output_type": "error",
     "traceback": [
      "\u001b[0;31m---------------------------------------------------------------------------\u001b[0m",
      "\u001b[0;31mTypeError\u001b[0m                                 Traceback (most recent call last)",
      "\u001b[0;32m<ipython-input-33-cb1188fda971>\u001b[0m in \u001b[0;36m<module>\u001b[0;34m\u001b[0m\n\u001b[0;32m----> 1\u001b[0;31m \u001b[0mprint\u001b[0m\u001b[0;34m(\u001b[0m\u001b[0ma\u001b[0m \u001b[0;34m+\u001b[0m \u001b[0mdict\u001b[0m\u001b[0;34m)\u001b[0m\u001b[0;34m\u001b[0m\u001b[0;34m\u001b[0m\u001b[0m\n\u001b[0m",
      "\u001b[0;32m<ipython-input-26-4c0dddc8d858>\u001b[0m in \u001b[0;36m__add__\u001b[0;34m(self, other)\u001b[0m\n\u001b[1;32m     12\u001b[0m                 \u001b[0;32mreturn\u001b[0m \u001b[0mArray\u001b[0m\u001b[0;34m(\u001b[0m\u001b[0;34m[\u001b[0m\u001b[0mx\u001b[0m \u001b[0;34m+\u001b[0m \u001b[0my\u001b[0m \u001b[0;32mfor\u001b[0m \u001b[0mx\u001b[0m\u001b[0;34m,\u001b[0m \u001b[0my\u001b[0m \u001b[0;32min\u001b[0m \u001b[0mzip\u001b[0m\u001b[0;34m(\u001b[0m\u001b[0mself\u001b[0m\u001b[0;34m,\u001b[0m \u001b[0mother\u001b[0m\u001b[0;34m)\u001b[0m\u001b[0;34m]\u001b[0m\u001b[0;34m)\u001b[0m\u001b[0;34m\u001b[0m\u001b[0;34m\u001b[0m\u001b[0m\n\u001b[1;32m     13\u001b[0m         \u001b[0;32melse\u001b[0m\u001b[0;34m:\u001b[0m\u001b[0;34m\u001b[0m\u001b[0;34m\u001b[0m\u001b[0m\n\u001b[0;32m---> 14\u001b[0;31m             \u001b[0;32mraise\u001b[0m \u001b[0mTypeError\u001b[0m\u001b[0;34m(\u001b[0m\u001b[0;34mf\"Вектор нельзя сложить с {other}\"\u001b[0m\u001b[0;34m)\u001b[0m\u001b[0;34m\u001b[0m\u001b[0;34m\u001b[0m\u001b[0m\n\u001b[0m\u001b[1;32m     15\u001b[0m     \u001b[0;34m\"\"\"Сложение, когда аргумент справа\"\"\"\u001b[0m\u001b[0;34m\u001b[0m\u001b[0;34m\u001b[0m\u001b[0m\n\u001b[1;32m     16\u001b[0m     \u001b[0;32mdef\u001b[0m \u001b[0m__radd__\u001b[0m\u001b[0;34m(\u001b[0m\u001b[0mself\u001b[0m\u001b[0;34m,\u001b[0m \u001b[0mother\u001b[0m\u001b[0;34m)\u001b[0m\u001b[0;34m:\u001b[0m\u001b[0;34m\u001b[0m\u001b[0;34m\u001b[0m\u001b[0m\n",
      "\u001b[0;31mTypeError\u001b[0m: Вектор нельзя сложить с <class 'dict'>"
     ]
    }
   ],
   "source": [
    "print(a + dict)"
   ]
  },
  {
   "cell_type": "code",
   "execution_count": 34,
   "metadata": {},
   "outputs": [
    {
     "ename": "TypeError",
     "evalue": "Вектор нельзя умножить с <class 'dict'>",
     "output_type": "error",
     "traceback": [
      "\u001b[0;31m---------------------------------------------------------------------------\u001b[0m",
      "\u001b[0;31mTypeError\u001b[0m                                 Traceback (most recent call last)",
      "\u001b[0;32m<ipython-input-34-dc3009138921>\u001b[0m in \u001b[0;36m<module>\u001b[0;34m\u001b[0m\n\u001b[0;32m----> 1\u001b[0;31m \u001b[0mprint\u001b[0m\u001b[0;34m(\u001b[0m\u001b[0ma\u001b[0m \u001b[0;34m*\u001b[0m \u001b[0mdict\u001b[0m\u001b[0;34m)\u001b[0m\u001b[0;34m\u001b[0m\u001b[0;34m\u001b[0m\u001b[0m\n\u001b[0m",
      "\u001b[0;32m<ipython-input-26-4c0dddc8d858>\u001b[0m in \u001b[0;36m__mul__\u001b[0;34m(self, other)\u001b[0m\n\u001b[1;32m     48\u001b[0m                 \u001b[0;32mreturn\u001b[0m \u001b[0mArray\u001b[0m\u001b[0;34m(\u001b[0m\u001b[0;34m[\u001b[0m\u001b[0mx\u001b[0m \u001b[0;34m*\u001b[0m \u001b[0my\u001b[0m \u001b[0;32mfor\u001b[0m \u001b[0mx\u001b[0m\u001b[0;34m,\u001b[0m \u001b[0my\u001b[0m \u001b[0;32min\u001b[0m \u001b[0mzip\u001b[0m\u001b[0;34m(\u001b[0m\u001b[0mself\u001b[0m\u001b[0;34m,\u001b[0m \u001b[0mother\u001b[0m\u001b[0;34m)\u001b[0m\u001b[0;34m]\u001b[0m\u001b[0;34m)\u001b[0m\u001b[0;34m\u001b[0m\u001b[0;34m\u001b[0m\u001b[0m\n\u001b[1;32m     49\u001b[0m         \u001b[0;32melse\u001b[0m\u001b[0;34m:\u001b[0m\u001b[0;34m\u001b[0m\u001b[0;34m\u001b[0m\u001b[0m\n\u001b[0;32m---> 50\u001b[0;31m             \u001b[0;32mraise\u001b[0m \u001b[0mTypeError\u001b[0m\u001b[0;34m(\u001b[0m\u001b[0;34mf\"Вектор нельзя умножить с {other}\"\u001b[0m\u001b[0;34m)\u001b[0m\u001b[0;34m\u001b[0m\u001b[0;34m\u001b[0m\u001b[0m\n\u001b[0m\u001b[1;32m     51\u001b[0m     \u001b[0;34m\"\"\"Умножение, когда аргумент справа\"\"\"\u001b[0m\u001b[0;34m\u001b[0m\u001b[0;34m\u001b[0m\u001b[0m\n\u001b[1;32m     52\u001b[0m     \u001b[0;32mdef\u001b[0m \u001b[0m__rmul__\u001b[0m\u001b[0;34m(\u001b[0m\u001b[0mself\u001b[0m\u001b[0;34m,\u001b[0m \u001b[0mother\u001b[0m\u001b[0;34m)\u001b[0m\u001b[0;34m:\u001b[0m\u001b[0;34m\u001b[0m\u001b[0;34m\u001b[0m\u001b[0m\n",
      "\u001b[0;31mTypeError\u001b[0m: Вектор нельзя умножить с <class 'dict'>"
     ]
    }
   ],
   "source": [
    "print(a * dict)"
   ]
  },
  {
   "cell_type": "code",
   "execution_count": null,
   "metadata": {},
   "outputs": [],
   "source": []
  },
  {
   "cell_type": "code",
   "execution_count": 35,
   "metadata": {},
   "outputs": [],
   "source": [
    "n = np.array([1,2,3])"
   ]
  },
  {
   "cell_type": "code",
   "execution_count": 36,
   "metadata": {},
   "outputs": [
    {
     "data": {
      "text/plain": [
       "array([ True,  True,  True])"
      ]
     },
     "execution_count": 36,
     "metadata": {},
     "output_type": "execute_result"
    }
   ],
   "source": [
    "a == n"
   ]
  },
  {
   "cell_type": "code",
   "execution_count": 37,
   "metadata": {},
   "outputs": [
    {
     "ename": "ValueError",
     "evalue": "operands could not be broadcast together with shapes (3,) (4,) ",
     "output_type": "error",
     "traceback": [
      "\u001b[0;31m---------------------------------------------------------------------------\u001b[0m",
      "\u001b[0;31mValueError\u001b[0m                                Traceback (most recent call last)",
      "\u001b[0;32m<ipython-input-37-73f0992b3276>\u001b[0m in \u001b[0;36m<module>\u001b[0;34m\u001b[0m\n\u001b[0;32m----> 1\u001b[0;31m \u001b[0mnp\u001b[0m\u001b[0;34m.\u001b[0m\u001b[0marray\u001b[0m\u001b[0;34m(\u001b[0m\u001b[0;34m[\u001b[0m\u001b[0;36m1\u001b[0m\u001b[0;34m,\u001b[0m\u001b[0;36m2\u001b[0m\u001b[0;34m,\u001b[0m\u001b[0;36m3\u001b[0m\u001b[0;34m]\u001b[0m\u001b[0;34m)\u001b[0m \u001b[0;34m*\u001b[0m \u001b[0mnp\u001b[0m\u001b[0;34m.\u001b[0m\u001b[0marray\u001b[0m\u001b[0;34m(\u001b[0m\u001b[0;34m[\u001b[0m\u001b[0;36m1\u001b[0m\u001b[0;34m,\u001b[0m\u001b[0;36m2\u001b[0m\u001b[0;34m,\u001b[0m\u001b[0;36m3\u001b[0m\u001b[0;34m,\u001b[0m \u001b[0;36m4\u001b[0m\u001b[0;34m]\u001b[0m\u001b[0;34m)\u001b[0m\u001b[0;34m\u001b[0m\u001b[0;34m\u001b[0m\u001b[0m\n\u001b[0m",
      "\u001b[0;31mValueError\u001b[0m: operands could not be broadcast together with shapes (3,) (4,) "
     ]
    }
   ],
   "source": [
    "np.array([1,2,3]) * np.array([1,2,3, 4])"
   ]
  },
  {
   "cell_type": "code",
   "execution_count": 38,
   "metadata": {},
   "outputs": [
    {
     "ename": "TypeError",
     "evalue": "unsupported operand type(s) for *: 'int' and 'type'",
     "output_type": "error",
     "traceback": [
      "\u001b[0;31m---------------------------------------------------------------------------\u001b[0m",
      "\u001b[0;31mTypeError\u001b[0m                                 Traceback (most recent call last)",
      "\u001b[0;32m<ipython-input-38-8d5cbccf6e97>\u001b[0m in \u001b[0;36m<module>\u001b[0;34m\u001b[0m\n\u001b[0;32m----> 1\u001b[0;31m \u001b[0mnp\u001b[0m\u001b[0;34m.\u001b[0m\u001b[0marray\u001b[0m\u001b[0;34m(\u001b[0m\u001b[0;34m[\u001b[0m\u001b[0;36m1\u001b[0m\u001b[0;34m,\u001b[0m\u001b[0;36m2\u001b[0m\u001b[0;34m,\u001b[0m\u001b[0;36m3\u001b[0m\u001b[0;34m]\u001b[0m\u001b[0;34m)\u001b[0m \u001b[0;34m*\u001b[0m \u001b[0mdict\u001b[0m\u001b[0;34m\u001b[0m\u001b[0;34m\u001b[0m\u001b[0m\n\u001b[0m",
      "\u001b[0;31mTypeError\u001b[0m: unsupported operand type(s) for *: 'int' and 'type'"
     ]
    }
   ],
   "source": [
    "np.array([1,2,3]) * dict"
   ]
  },
  {
   "cell_type": "code",
   "execution_count": 449,
   "metadata": {},
   "outputs": [],
   "source": [
    "list1 = [[1,2,3], [4,5,6], [7,8,9]]\n",
    "a = Array(list1)\n",
    "b = np.array(list1)"
   ]
  },
  {
   "cell_type": "code",
   "execution_count": 454,
   "metadata": {},
   "outputs": [
    {
     "ename": "IndexError",
     "evalue": "Слишком много индексов для массива этого пространства",
     "output_type": "error",
     "traceback": [
      "\u001b[0;31m---------------------------------------------------------------------------\u001b[0m",
      "\u001b[0;31mIndexError\u001b[0m                                Traceback (most recent call last)",
      "\u001b[0;32m<ipython-input-454-8787e0944294>\u001b[0m in \u001b[0;36m<module>\u001b[0;34m\u001b[0m\n\u001b[0;32m----> 1\u001b[0;31m \u001b[0ma\u001b[0m\u001b[0;34m[\u001b[0m\u001b[0;36m1\u001b[0m\u001b[0;34m,\u001b[0m\u001b[0;36m1\u001b[0m\u001b[0;34m,\u001b[0m\u001b[0;36m1\u001b[0m\u001b[0;34m]\u001b[0m\u001b[0;34m\u001b[0m\u001b[0;34m\u001b[0m\u001b[0m\n\u001b[0m",
      "\u001b[0;32m<ipython-input-448-36f659b74321>\u001b[0m in \u001b[0;36m__getitem__\u001b[0;34m(self, item)\u001b[0m\n\u001b[1;32m     87\u001b[0m                 \u001b[0;32mwhile\u001b[0m \u001b[0mlen\u001b[0m\u001b[0;34m(\u001b[0m\u001b[0mitem\u001b[0m\u001b[0;34m)\u001b[0m \u001b[0;34m>\u001b[0m \u001b[0;36m0\u001b[0m\u001b[0;34m:\u001b[0m\u001b[0;34m\u001b[0m\u001b[0;34m\u001b[0m\u001b[0m\n\u001b[1;32m     88\u001b[0m                     \u001b[0;32mif\u001b[0m \u001b[0misinstance\u001b[0m\u001b[0;34m(\u001b[0m\u001b[0mself\u001b[0m\u001b[0;34m,\u001b[0m \u001b[0;34m(\u001b[0m\u001b[0mint\u001b[0m\u001b[0;34m,\u001b[0m \u001b[0mfloat\u001b[0m\u001b[0;34m)\u001b[0m\u001b[0;34m)\u001b[0m\u001b[0;34m:\u001b[0m\u001b[0;34m\u001b[0m\u001b[0;34m\u001b[0m\u001b[0m\n\u001b[0;32m---> 89\u001b[0;31m                         \u001b[0;32mraise\u001b[0m \u001b[0mIndexError\u001b[0m\u001b[0;34m(\u001b[0m\u001b[0;34m'Слишком много индексов для массива этого пространства'\u001b[0m\u001b[0;34m)\u001b[0m\u001b[0;34m\u001b[0m\u001b[0;34m\u001b[0m\u001b[0m\n\u001b[0m\u001b[1;32m     90\u001b[0m                     \u001b[0mself\u001b[0m \u001b[0;34m=\u001b[0m \u001b[0mself\u001b[0m\u001b[0;34m[\u001b[0m\u001b[0mitem\u001b[0m\u001b[0;34m[\u001b[0m\u001b[0;36m0\u001b[0m\u001b[0;34m]\u001b[0m\u001b[0;34m]\u001b[0m\u001b[0;34m\u001b[0m\u001b[0;34m\u001b[0m\u001b[0m\n\u001b[1;32m     91\u001b[0m                     \u001b[0mitem\u001b[0m \u001b[0;34m=\u001b[0m \u001b[0mitem\u001b[0m\u001b[0;34m[\u001b[0m\u001b[0;36m1\u001b[0m\u001b[0;34m:\u001b[0m\u001b[0;34m]\u001b[0m\u001b[0;34m\u001b[0m\u001b[0;34m\u001b[0m\u001b[0m\n",
      "\u001b[0;31mIndexError\u001b[0m: Слишком много индексов для массива этого пространства"
     ]
    }
   ],
   "source": [
    "a[1,1,1]"
   ]
  },
  {
   "cell_type": "code",
   "execution_count": 453,
   "metadata": {},
   "outputs": [
    {
     "ename": "IndexError",
     "evalue": "too many indices for array: array is 2-dimensional, but 3 were indexed",
     "output_type": "error",
     "traceback": [
      "\u001b[0;31m---------------------------------------------------------------------------\u001b[0m",
      "\u001b[0;31mIndexError\u001b[0m                                Traceback (most recent call last)",
      "\u001b[0;32m<ipython-input-453-0d39a655898f>\u001b[0m in \u001b[0;36m<module>\u001b[0;34m\u001b[0m\n\u001b[0;32m----> 1\u001b[0;31m \u001b[0mb\u001b[0m\u001b[0;34m[\u001b[0m\u001b[0;36m1\u001b[0m\u001b[0;34m,\u001b[0m\u001b[0;36m1\u001b[0m\u001b[0;34m,\u001b[0m\u001b[0;36m1\u001b[0m\u001b[0;34m]\u001b[0m\u001b[0;34m\u001b[0m\u001b[0;34m\u001b[0m\u001b[0m\n\u001b[0m",
      "\u001b[0;31mIndexError\u001b[0m: too many indices for array: array is 2-dimensional, but 3 were indexed"
     ]
    }
   ],
   "source": [
    "b[1,1,1]"
   ]
  },
  {
   "cell_type": "code",
   "execution_count": null,
   "metadata": {},
   "outputs": [],
   "source": []
  }
 ],
 "metadata": {
  "kernelspec": {
   "display_name": "Python 3",
   "language": "python",
   "name": "python3"
  },
  "language_info": {
   "codemirror_mode": {
    "name": "ipython",
    "version": 3
   },
   "file_extension": ".py",
   "mimetype": "text/x-python",
   "name": "python",
   "nbconvert_exporter": "python",
   "pygments_lexer": "ipython3",
   "version": "3.8.5"
  }
 },
 "nbformat": 4,
 "nbformat_minor": 4
}
