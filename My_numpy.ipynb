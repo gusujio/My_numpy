{
 "cells": [
  {
   "cell_type": "markdown",
   "metadata": {},
   "source": [
    "## Свой numpy\n",
    "\n",
    "код написан с рекомендациями pep"
   ]
  },
  {
   "cell_type": "code",
   "execution_count": 5,
   "metadata": {},
   "outputs": [],
   "source": [
    "import numpy as np"
   ]
  },
  {
   "cell_type": "code",
   "execution_count": 6,
   "metadata": {},
   "outputs": [],
   "source": [
    "# pip install pycodestyle flake8 pycodestyle_magic"
   ]
  },
  {
   "cell_type": "code",
   "execution_count": 7,
   "metadata": {},
   "outputs": [],
   "source": [
    "%load_ext pycodestyle_magic"
   ]
  },
  {
   "cell_type": "code",
   "execution_count": 8,
   "metadata": {},
   "outputs": [],
   "source": [
    "%%pycodestyle\n",
    "\n",
    "a = 1 '# eee'\n",
    "s = 2"
   ]
  },
  {
   "cell_type": "code",
   "execution_count": 9,
   "metadata": {},
   "outputs": [
    {
     "data": {
      "text/plain": [
       "-inf"
      ]
     },
     "execution_count": 9,
     "metadata": {},
     "output_type": "execute_result"
    }
   ],
   "source": [
    "float('-inf')"
   ]
  },
  {
   "cell_type": "code",
   "execution_count": 10,
   "metadata": {},
   "outputs": [],
   "source": [
    "class Null(float):\n",
    "    def __repr__(self):\n",
    "        return 'Null'\n",
    "    def __add__(self, other):\n",
    "        return Null()\n",
    "    def __radd__(self, other):\n",
    "        return Null()\n",
    "    def __sub__(self, other):\n",
    "        return Null()\n",
    "    def __rsub__(self, other):\n",
    "        return Null()\n",
    "    def __mul__(self, other):\n",
    "        return Null()\n",
    "    def __rmul__(self, other):\n",
    "        return Null()\n",
    "    def __truediv__(self, other):\n",
    "        return Null()\n",
    "    def __rtruediv__(self, other):\n",
    "        return Null()\n",
    "    def __eq__(self, other):\n",
    "        return False\n",
    "    def __ne__(self, other):\n",
    "        return True\n",
    "    def __lt__(self, other):\n",
    "        return False\n",
    "    def __le__(self, other):\n",
    "        return False\n",
    "    def __gt__(self, other):\n",
    "        return False\n",
    "    def __ge__(self, other):\n",
    "        return False"
   ]
  },
  {
   "cell_type": "code",
   "execution_count": 11,
   "metadata": {},
   "outputs": [
    {
     "data": {
      "text/plain": [
       "True"
      ]
     },
     "execution_count": 11,
     "metadata": {},
     "output_type": "execute_result"
    }
   ],
   "source": [
    "(np.nan != 2) == (Null() != 2)"
   ]
  },
  {
   "cell_type": "code",
   "execution_count": 12,
   "metadata": {},
   "outputs": [
    {
     "data": {
      "text/plain": [
       "True"
      ]
     },
     "execution_count": 12,
     "metadata": {},
     "output_type": "execute_result"
    }
   ],
   "source": [
    "(np.nan == np.nan) == (Null() == Null())"
   ]
  },
  {
   "cell_type": "code",
   "execution_count": 13,
   "metadata": {},
   "outputs": [
    {
     "data": {
      "text/plain": [
       "True"
      ]
     },
     "execution_count": 13,
     "metadata": {},
     "output_type": "execute_result"
    }
   ],
   "source": [
    "(np.nan != np.nan) == (Null() != Null())"
   ]
  },
  {
   "cell_type": "code",
   "execution_count": 14,
   "metadata": {},
   "outputs": [],
   "source": [
    "# %%pycodestyle\n",
    "\n",
    "class Array(list):\n",
    "    \n",
    "    def __repr__(self):\n",
    "        return super().__repr__()\n",
    "\n",
    "    \"\"\"Сложение, когда аргумент слева\"\"\"\n",
    "    def __add__(self, other):\n",
    "        if isinstance(other, (int, float)):\n",
    "            return Array([x + other for x in self])\n",
    "        elif isinstance(other, (Array, list, tuple)):\n",
    "            if len(self) != len(other):\n",
    "                raise ValueError('Сложение векторов разной длины недопустимо')\n",
    "            else:\n",
    "                return Array([x + y for x, y in zip(self, other)])\n",
    "        else:\n",
    "            raise TypeError(f\"Вектор нельзя сложить с {other}\")\n",
    "    \"\"\"Сложение, когда аргумент справа\"\"\"\n",
    "    def __radd__(self, other):\n",
    "        return self + other\n",
    "\n",
    "    \"\"\"Вычитание, когда аргумент слева\"\"\"\n",
    "    def __sub__(self, other):\n",
    "        return self.sub(other, 'left')\n",
    "    \"\"\"Вычитание, когда аргумент справа\"\"\"\n",
    "    def __rsub__(self, other):\n",
    "        return self.sub(other, 'right')\n",
    "\n",
    "    def sub(self, other, flag):\n",
    "        if isinstance(other, (int, float)):\n",
    "            if flag == 'left':\n",
    "                return Array([x - other for x in self])\n",
    "            elif flag == 'right':\n",
    "                return Array([other - x for x in self])\n",
    "        elif isinstance(other, (Array, list, tuple)):\n",
    "            if len(self) != len(other):\n",
    "                raise ValueError('Вычитание векторов разной длины недопустимо')\n",
    "            else:\n",
    "                return Array([x - y for x, y in zip(self, other)])\n",
    "        else:\n",
    "            raise TypeError(f\"Вектор нельзя вычисть с {other}\")\n",
    "\n",
    "    \"\"\"Умножение, когда аргумент слева\"\"\"\n",
    "    def __mul__(self, other):\n",
    "        if isinstance(other, (int, float)):\n",
    "            return Array([x * other for x in self])\n",
    "        elif isinstance(other, (Array, list, tuple)):\n",
    "            if len(self) != len(other):\n",
    "                raise ValueError('Умножение векторов разной длины недопустимо')\n",
    "            else:\n",
    "                return Array([x * y for x, y in zip(self, other)])\n",
    "        else:\n",
    "            raise TypeError(f\"Вектор нельзя умножить с {other}\")\n",
    "    \"\"\"Умножение, когда аргумент справа\"\"\"\n",
    "    def __rmul__(self, other):\n",
    "        return self * other\n",
    "\n",
    "    \"\"\"Деление, когда аргумент слева\"\"\"\n",
    "    def __truediv__(self, other):\n",
    "        return self.truediv(other, 'left')\n",
    "    \"\"\"Деление, когда аргумент справа\"\"\"\n",
    "    def __rtruediv__(self, other):\n",
    "        return self.truediv(other, 'right')\n",
    "\n",
    "    def truediv(self, other, flag):\n",
    "        if isinstance(other, (int, float)):\n",
    "            if flag == 'left':\n",
    "                return Array([x / other for x in self])\n",
    "            elif flag == 'right':\n",
    "                return Array([other / x for x in self])\n",
    "        elif isinstance(other, (Array, list, tuple)):\n",
    "            if len(self) != len(other):\n",
    "                raise ValueError('Деление векторов разной длины недопустимо')\n",
    "            else:\n",
    "                return Array([x / y for x, y in zip(self, other)])\n",
    "        else:\n",
    "            raise TypeError(f\"Вектор нельзя разделить с {other}\")\n",
    "            \n",
    "    \"\"\"Добавление функционала слайсинга\"\"\"\n",
    "    def __getitem__(self, item):\n",
    "        if type(item) != tuple:\n",
    "            item = super().__getitem__(item)\n",
    "            if isinstance(item, (float, int, str)) or item == None :\n",
    "                return item\n",
    "            return Array(item)\n",
    "        else:\n",
    "            if type(item[0]) == slice:\n",
    "                return Array([i[item[1]] for i in self[item[0]]])\n",
    "            else:\n",
    "                while len(item) > 0:\n",
    "                    if isinstance(self, (int, float)) or item == None :\n",
    "                        raise IndexError('Слишком много индексов для массива этого пространства')\n",
    "                    self = self[item[0]]\n",
    "                    item = item[1:]\n",
    "                return self\n",
    "    \"\"\"Добавление функционала итерирования в цикле\"\"\"\n",
    "    def __iter__(self):\n",
    "        self.index = 0\n",
    "        return self\n",
    "    \n",
    "    def __next__(self):\n",
    "        if self.index >= len(self):\n",
    "            raise StopIteration\n",
    "        letter = self[self.index]\n",
    "        self.index += 1 \n",
    "        return letter\n",
    "\n",
    "    def __eq__(self, other):\n",
    "        if isinstance(other, (list, Array, tuple)) and len(self) == len(other):\n",
    "            mas = []\n",
    "            for i, j in zip(self, other):\n",
    "                mas += [i == j]\n",
    "            return Array(mas)\n",
    "        elif isinstance(other, (int, float, Null, str)):\n",
    "            mas = []\n",
    "            for i in self:\n",
    "                mas += [i == other]\n",
    "            return Array(mas)\n",
    "        else:\n",
    "            return super().__eq__(other)\n",
    "                \n",
    "\n",
    "    \"\"\"Находит min число в Array\"\"\"\n",
    "    def min(self):\n",
    "        mins = float('inf')\n",
    "        for i in self:\n",
    "            if not isinstance(i, (int, float)):\n",
    "                i = Array(i).min()\n",
    "            if i < mins:\n",
    "                mins = i\n",
    "        return mins\n",
    "    \"\"\"Находит max число в Array\"\"\"\n",
    "    def max(self):\n",
    "        maxs = float('-inf')\n",
    "        for i in self:\n",
    "            if not isinstance(i, (int, float)):\n",
    "                i = Array(i).max()\n",
    "            if i > maxs:\n",
    "                maxs = i\n",
    "        return maxs\n",
    "            \n",
    "                \n",
    "    \"\"\"Считает сумму всех чисел в Array\"\"\"\n",
    "    def sum(self):\n",
    "        sums = 0\n",
    "        for i in self:\n",
    "            if isinstance(i, (int, float)):\n",
    "                sums += i\n",
    "            else:\n",
    "                sums += Array(i).sum()\n",
    "        return sums\n",
    "    \"\"\"Считает кол-во всех элементов в Array\"\"\"\n",
    "    def count_el(self):\n",
    "        counts = 0\n",
    "        for i in self:\n",
    "            if isinstance(i, (int, float)):\n",
    "                counts += 1\n",
    "            else:\n",
    "                counts += Array(i).count_el()\n",
    "        return counts\n",
    "    \"\"\"Считает сумму и кол-во всех элементов в Array\"\"\"\n",
    "    def sum_count(self):\n",
    "        counts = 0\n",
    "        sums = 0\n",
    "        for i in self:\n",
    "            if isinstance(i, (int, float)):\n",
    "                counts += 1\n",
    "                sums += i\n",
    "            else:\n",
    "                s, c = Array(i).sum_count()\n",
    "                sums += s\n",
    "                counts += c\n",
    "                \n",
    "        return sums, counts\n",
    "    \"\"\"Считает среднее значение элементов в Array\"\"\"\n",
    "    def mean(self):\n",
    "        s, c = self.sum_count()\n",
    "        return s / c\n",
    "    \n",
    "    def std(self):\n",
    "        return (((self - self.mean()) * (self - self.mean())).sum() / self.count_el() )** 0.5\n",
    "    \n",
    "    \"\"\"в оригинальном np его нет, но что бы работал pandas нужен\"\"\"\n",
    "    def dropna(self):\n",
    "        mas = []\n",
    "        for i in self:\n",
    "            if not isinstance(i, Null) and i != None:\n",
    "                mas += [i]\n",
    "        return Array(mas)\n",
    "    \n",
    "    \"\"\"округляет все числа в массиве\"\"\"\n",
    "    def round(self, lens = 1):\n",
    "        mas = []\n",
    "        for i in range(len(self)):\n",
    "            mas.append(round(self[i], lens))\n",
    "        return mas"
   ]
  },
  {
   "cell_type": "code",
   "execution_count": 15,
   "metadata": {},
   "outputs": [
    {
     "data": {
      "text/plain": [
       "[1.43, 3.232, 1212.323]"
      ]
     },
     "execution_count": 15,
     "metadata": {},
     "output_type": "execute_result"
    }
   ],
   "source": [
    "a = Array([1.43,3.23232,1212.323232])\n",
    "a.round(3)"
   ]
  },
  {
   "cell_type": "markdown",
   "metadata": {},
   "source": [
    "## Тестирование базовых методов"
   ]
  },
  {
   "cell_type": "code",
   "execution_count": 16,
   "metadata": {},
   "outputs": [],
   "source": [
    "list1 = [1,4,21,2]\n",
    "a = Array(list1)\n",
    "b = list1"
   ]
  },
  {
   "cell_type": "code",
   "execution_count": 17,
   "metadata": {},
   "outputs": [
    {
     "data": {
      "text/plain": [
       "True"
      ]
     },
     "execution_count": 17,
     "metadata": {},
     "output_type": "execute_result"
    }
   ],
   "source": [
    "sorted(b) == sorted(a)"
   ]
  },
  {
   "cell_type": "code",
   "execution_count": 18,
   "metadata": {},
   "outputs": [
    {
     "data": {
      "text/plain": [
       "[True, True, True, True, True]"
      ]
     },
     "execution_count": 18,
     "metadata": {},
     "output_type": "execute_result"
    }
   ],
   "source": [
    "b.append(1)\n",
    "a.append(1)\n",
    "b == a"
   ]
  },
  {
   "cell_type": "code",
   "execution_count": 19,
   "metadata": {},
   "outputs": [],
   "source": [
    "a = Array([0, 10, 'bmv', 2000])"
   ]
  },
  {
   "cell_type": "code",
   "execution_count": 20,
   "metadata": {},
   "outputs": [
    {
     "data": {
      "text/plain": [
       "[0, 10, 'bmv', 2000, 1]"
      ]
     },
     "execution_count": 20,
     "metadata": {},
     "output_type": "execute_result"
    }
   ],
   "source": [
    "a.append(1)\n",
    "a"
   ]
  },
  {
   "cell_type": "markdown",
   "metadata": {},
   "source": [
    "## Тестирование знака равно"
   ]
  },
  {
   "cell_type": "code",
   "execution_count": 21,
   "metadata": {},
   "outputs": [],
   "source": [
    "list1 = [1,2,3]\n",
    "a = Array(list1)\n",
    "b = np.array(list1)"
   ]
  },
  {
   "cell_type": "code",
   "execution_count": 22,
   "metadata": {},
   "outputs": [
    {
     "data": {
      "text/plain": [
       "array([ True,  True,  True])"
      ]
     },
     "execution_count": 22,
     "metadata": {},
     "output_type": "execute_result"
    }
   ],
   "source": [
    "(a == 2) == (b == 2)"
   ]
  },
  {
   "cell_type": "code",
   "execution_count": 23,
   "metadata": {},
   "outputs": [
    {
     "name": "stderr",
     "output_type": "stream",
     "text": [
      "<ipython-input-23-9788d2e57f58>:1: DeprecationWarning: elementwise comparison failed; this will raise an error in the future.\n",
      "  a == [1,2], b == [1,2]\n"
     ]
    },
    {
     "data": {
      "text/plain": [
       "(False, False)"
      ]
     },
     "execution_count": 23,
     "metadata": {},
     "output_type": "execute_result"
    }
   ],
   "source": [
    "a == [1,2], b == [1,2]"
   ]
  },
  {
   "cell_type": "code",
   "execution_count": 24,
   "metadata": {},
   "outputs": [
    {
     "data": {
      "text/plain": [
       "([True, True, True], array([ True,  True,  True]))"
      ]
     },
     "execution_count": 24,
     "metadata": {},
     "output_type": "execute_result"
    }
   ],
   "source": [
    "a == [1,2,3], b == [1,2,3]"
   ]
  },
  {
   "cell_type": "code",
   "execution_count": 25,
   "metadata": {},
   "outputs": [
    {
     "name": "stderr",
     "output_type": "stream",
     "text": [
      "<ipython-input-25-b73ba61464d5>:1: DeprecationWarning: elementwise comparison failed; this will raise an error in the future.\n",
      "  a == [1,2,3, 4], b == [1,2,3, 4]\n"
     ]
    },
    {
     "data": {
      "text/plain": [
       "(False, False)"
      ]
     },
     "execution_count": 25,
     "metadata": {},
     "output_type": "execute_result"
    }
   ],
   "source": [
    "a == [1,2,3, 4], b == [1,2,3, 4]"
   ]
  },
  {
   "cell_type": "markdown",
   "metadata": {},
   "source": [
    "## Тестирование цикла"
   ]
  },
  {
   "cell_type": "code",
   "execution_count": 26,
   "metadata": {},
   "outputs": [],
   "source": [
    "list1 = [[1,2,3], [4,5,6], [7,8,9]]\n",
    "a = Array(list1)\n",
    "b = np.array(list1)"
   ]
  },
  {
   "cell_type": "code",
   "execution_count": 27,
   "metadata": {},
   "outputs": [
    {
     "name": "stdout",
     "output_type": "stream",
     "text": [
      "Ok\n",
      "Ok\n",
      "Ok\n",
      "--------------------\n",
      "Ошибок нет\n"
     ]
    }
   ],
   "source": [
    "cool = True\n",
    "for i, j in zip(b, a):\n",
    "    if all(i == j):\n",
    "        print('Ok')\n",
    "    else:\n",
    "        cool = False\n",
    "        print('Ko')\n",
    "print('--------------------')\n",
    "if cool:\n",
    "    print('Ошибок нет')\n",
    "else:\n",
    "    print('Ошибка!!!!!')"
   ]
  },
  {
   "cell_type": "markdown",
   "metadata": {},
   "source": [
    "# ошибка если \n",
    "#### 1. a = Array(1)\n",
    "#### 2. list1 = [[[-4.0, -3.0, -2.0], [-1.0, 0.0, 1.0], [2.0, 3.0, 4.0]]  a = Array(list1) a * a\n",
    "#### 3. Добавить возведение масива в степень!\n",
    "\n",
    "\n"
   ]
  },
  {
   "cell_type": "code",
   "execution_count": 28,
   "metadata": {},
   "outputs": [
    {
     "data": {
      "text/plain": [
       "[]"
      ]
     },
     "execution_count": 28,
     "metadata": {},
     "output_type": "execute_result"
    }
   ],
   "source": [
    "list1 = [[[-4.0, -3.0, -2.0], [-1.0, 0.0, 1.0], [2.0, 3.0, 4.0]]]\n",
    "a = Array(list1)\n",
    "a * a"
   ]
  },
  {
   "cell_type": "code",
   "execution_count": null,
   "metadata": {},
   "outputs": [],
   "source": []
  },
  {
   "cell_type": "markdown",
   "metadata": {},
   "source": [
    "## Тестирование dropna"
   ]
  },
  {
   "cell_type": "code",
   "execution_count": 29,
   "metadata": {},
   "outputs": [
    {
     "data": {
      "text/plain": [
       "[True, True]"
      ]
     },
     "execution_count": 29,
     "metadata": {},
     "output_type": "execute_result"
    }
   ],
   "source": [
    "l1 = [7,8,Null(), None]\n",
    "my_arr = Array(l1)\n",
    "my_arr.dropna() == [7,8]"
   ]
  },
  {
   "cell_type": "markdown",
   "metadata": {},
   "source": [
    "## Тестирование mean, max, count..."
   ]
  },
  {
   "cell_type": "code",
   "execution_count": 30,
   "metadata": {},
   "outputs": [
    {
     "name": "stdout",
     "output_type": "stream",
     "text": [
      "--------------------\n",
      "Ошибок нет\n"
     ]
    }
   ],
   "source": [
    "l1 = [[[1,2,3], [4,5,6], [7,8,9]]]\n",
    "l2 = [[[7,8,9], [1,2,3], [4,5,6]]]\n",
    "l3 = [1,2,3]\n",
    "l4 = [1]\n",
    "l5 = [[[-4.0, -3.0, -2.0], [-1.0, 0.0, 1.0], [2.0, 3.0, 4.0]]]\n",
    "tests = [l1,l2,l3,l4,l5]\n",
    "cool = True\n",
    "for test in tests:\n",
    "    my_arr = Array(test)\n",
    "    np_arr = np.array(test)\n",
    "    if my_arr.min() != np_arr.min():\n",
    "        cool = False\n",
    "        print('Ko - min')\n",
    "        \n",
    "    if my_arr.max() != np_arr.max():\n",
    "        cool = False\n",
    "        print('Ko - max')\n",
    "        \n",
    "    if my_arr.mean() != np_arr.mean():\n",
    "        cool = False\n",
    "        print('Ko - mean')\n",
    "        \n",
    "    if my_arr.sum() != np_arr.sum():\n",
    "        cool = False\n",
    "        print('Ko - sum')\n",
    "        \n",
    "    if my_arr.std() != np_arr.std():\n",
    "        cool = False\n",
    "        print('Ko - std')\n",
    "print('--------------------')\n",
    "if cool:\n",
    "    print('Ошибок нет')\n",
    "else:\n",
    "    print('Ошибка!!!!!')"
   ]
  },
  {
   "cell_type": "markdown",
   "metadata": {},
   "source": [
    "## Тестирование арифметики"
   ]
  },
  {
   "cell_type": "code",
   "execution_count": 31,
   "metadata": {},
   "outputs": [],
   "source": [
    "def add(x, y):\n",
    "    return x + y\n",
    "\n",
    "def sub(x, y):\n",
    "    return x - y\n",
    "\n",
    "def mul(x, y):\n",
    "    return x * y\n",
    "\n",
    "def div(x, y):\n",
    "    return x / y"
   ]
  },
  {
   "cell_type": "code",
   "execution_count": 32,
   "metadata": {},
   "outputs": [],
   "source": [
    "a = Array"
   ]
  },
  {
   "cell_type": "code",
   "execution_count": 33,
   "metadata": {},
   "outputs": [
    {
     "name": "stdout",
     "output_type": "stream",
     "text": [
      "0 Ok - a add b\n",
      "0 Ok - b add a\n",
      "\n",
      "0 Ok - a add 3\n",
      "0 Ok - 3 add a\n",
      "\n",
      "1 Ok - a sub b\n",
      "1 Ok - b sub a\n",
      "\n",
      "1 Ok - a sub 3\n",
      "1 Ok - 3 sub a\n",
      "\n",
      "2 Ok - a mul b\n",
      "2 Ok - b mul a\n",
      "\n",
      "2 Ok - a mul 3\n",
      "2 Ok - 3 mul a\n",
      "\n",
      "3 Ok - a div b\n",
      "3 Ok - b div a\n",
      "\n",
      "3 Ok - a div 3\n",
      "3 Ok - 3 div a\n",
      "\n",
      "--------------------\n",
      "Ошибок нет\n"
     ]
    }
   ],
   "source": [
    "list1 = [1,2,3]\n",
    "list2 = [4,5,6]\n",
    "a = Array(list1)\n",
    "a2 = np.array(list1)\n",
    "\n",
    "b = Array(list2)\n",
    "b2 = np.array(list2)\n",
    "\n",
    "cool = True\n",
    "for en, fun in enumerate([add, sub, mul, div]):\n",
    "    if all(fun(a, b) == fun(a2, b2)): \n",
    "        print(f\"{en} Ok - a {str(fun)[10:13]} b\")\n",
    "    else:\n",
    "        cool = False\n",
    "        print(f\"{en} Ko - a {str(fun)[10:13]} b\")\n",
    "        \n",
    "    if all(fun(b, a) == fun(b2, a2)):\n",
    "        print(f\"{en} Ok - b {str(fun)[10:13]} a\\n\")\n",
    "    else:\n",
    "        cool = False\n",
    "        print(f\"{en } Ko - b {str(fun)[10:13]} a\\n\")\n",
    "        \n",
    "    if all(fun(a, 3) == fun(a2, 3)):\n",
    "        print(f\"{en} Ok - a {str(fun)[10:13]} 3\")\n",
    "    else:\n",
    "        cool = False\n",
    "        print(f\"{en} Ko - a {str(fun)[10:13]} 3\")\n",
    "        \n",
    "    if all(fun(3, a) == fun(3, a2)):\n",
    "        print(f\"{en} Ok - 3 {str(fun)[10:13]} a\\n\")\n",
    "    else:\n",
    "        cool = False\n",
    "        print(f\"{en } Ko - 3 {str(fun)[10:13]} a\\n\")\n",
    "    \n",
    "print('--------------------')\n",
    "if cool:\n",
    "    print('Ошибок нет')\n",
    "else:\n",
    "    print('Ошибка!!!!!')"
   ]
  },
  {
   "cell_type": "markdown",
   "metadata": {},
   "source": [
    "## Тестирование слайсинга 2"
   ]
  },
  {
   "cell_type": "code",
   "execution_count": 34,
   "metadata": {},
   "outputs": [],
   "source": [
    "def slice_intepritator(slices):\n",
    "    if type(slices) == slice:\n",
    "        if slices.start == slices.stop == slices.step == None:\n",
    "            return ':'\n",
    "        elif slices.start == None and slices.stop != None:\n",
    "            return f' : {slices.stop}'\n",
    "        elif slices.start != None and slices.stop == None:\n",
    "            return f'{slices.start} : '\n",
    "        else:\n",
    "            return f'{slices.start} : {slices.stop}'\n",
    "    else:\n",
    "        return slices"
   ]
  },
  {
   "cell_type": "code",
   "execution_count": 35,
   "metadata": {},
   "outputs": [],
   "source": [
    "# list1 = [[1,2,3], [4,5,6], [7,8,9], ['sds', 'dssc', 'cscs']]\n",
    "list1 = [[1,2,3], [4,5,6], [7,8,9]]\n",
    "a = Array(list1)\n",
    "b = np.array(list1)\n",
    "c = list1"
   ]
  },
  {
   "cell_type": "code",
   "execution_count": 36,
   "metadata": {},
   "outputs": [
    {
     "name": "stdout",
     "output_type": "stream",
     "text": [
      "array[0 : 2, 1] np: [2 5] my: [2, 5]\n",
      "1 Ok\n",
      "array[0 : 2][1] np: [4 5 6] my: [4, 5, 6]\n",
      "1 Ok \n",
      "\n",
      "array[1, 0 : 2] np: [4 5] my: [4, 5]\n",
      "2 Ok\n",
      "array[1][0 : 2] np: [4 5] my: [4, 5]\n",
      "2 Ok \n",
      "\n",
      "array[0, 1] np: 2 my: 2\n",
      "3 Ok\n",
      "array[0][1] np: 2 my: 2\n",
      "3 Ok \n",
      "\n",
      "array[1, 0] np: 4 my: 4\n",
      "4 Ok\n",
      "array[1][0] np: 4 my: 4\n",
      "4 Ok \n",
      "\n",
      "array[1, :] np: [4 5 6] my: [4, 5, 6]\n",
      "5 Ok\n",
      "array[1][:] np: [4 5 6] my: [4, 5, 6]\n",
      "5 Ok \n",
      "\n",
      "array[:, 1] np: [2 5 8] my: [2, 5, 8]\n",
      "6 Ok\n",
      "array[:][1] np: [4 5 6] my: [4, 5, 6]\n",
      "6 Ok \n",
      "\n",
      "array[1, 1 : ] np: [5 6] my: [5, 6]\n",
      "7 Ok\n",
      "array[1][1 : ] np: [5 6] my: [5, 6]\n",
      "7 Ok \n",
      "\n",
      "array[1 : , 1] np: [5 8] my: [5, 8]\n",
      "8 Ok\n",
      "array[1 : ][1] np: [7 8 9] my: [7, 8, 9]\n",
      "8 Ok \n",
      "\n",
      "--------------------\n",
      "Ошибок нет\n"
     ]
    }
   ],
   "source": [
    "slicesings = [[slice(0, 2), 1], [1, slice(0, 2)], [0, 1], [1, 0], [1, slice(None)],[slice(None), 1],\\\n",
    "              [1,slice(1, None)],[slice(1, None), 1]]\n",
    "cool = True\n",
    "for en, sl in enumerate(slicesings):\n",
    "    print(f'array[{slice_intepritator(sl[0])}, {slice_intepritator(sl[1])}]', 'np:', b[sl[0], sl[1]], 'my:', a[sl[0], sl[1]])\n",
    "    if np.all(b[sl[0], sl[1]] == a[sl[0], sl[1]]):\n",
    "        print(en + 1, 'Ok')\n",
    "    else:\n",
    "        cool = False\n",
    "        print(en + 1, 'Ko', [sl[0], sl[1]])\n",
    "        \n",
    "    print(f'array[{slice_intepritator(sl[0])}][{slice_intepritator(sl[1])}]','np:', b[sl[0]][sl[1]], 'my:', a[sl[0]][sl[1]])\n",
    "    \n",
    "    if np.all(b[sl[0]][sl[1]] == a[sl[0]][sl[1]]):\n",
    "        print(en + 1, 'Ok', '\\n')\n",
    "    else:\n",
    "        cool = False\n",
    "        print(en + 1, 'Ko', [sl[0]], [sl[1]], '\\n')\n",
    "print('--------------------')\n",
    "if cool:\n",
    "    print('Ошибок нет')\n",
    "else:\n",
    "    print('Ошибка!!!!!')"
   ]
  },
  {
   "cell_type": "markdown",
   "metadata": {},
   "source": [
    "## Тестирование ошибок"
   ]
  },
  {
   "cell_type": "code",
   "execution_count": 37,
   "metadata": {},
   "outputs": [
    {
     "ename": "ValueError",
     "evalue": "Сложение векторов разной длины недопустимо",
     "output_type": "error",
     "traceback": [
      "\u001b[0;31m---------------------------------------------------------------------------\u001b[0m",
      "\u001b[0;31mValueError\u001b[0m                                Traceback (most recent call last)",
      "\u001b[0;32m<ipython-input-37-8a4cd40dc781>\u001b[0m in \u001b[0;36m<module>\u001b[0;34m\u001b[0m\n\u001b[1;32m      1\u001b[0m \u001b[0ma\u001b[0m \u001b[0;34m=\u001b[0m \u001b[0mArray\u001b[0m\u001b[0;34m(\u001b[0m\u001b[0;34m[\u001b[0m\u001b[0;36m1\u001b[0m\u001b[0;34m,\u001b[0m\u001b[0;36m2\u001b[0m\u001b[0;34m,\u001b[0m\u001b[0;36m3\u001b[0m\u001b[0;34m]\u001b[0m\u001b[0;34m)\u001b[0m\u001b[0;34m\u001b[0m\u001b[0;34m\u001b[0m\u001b[0m\n\u001b[1;32m      2\u001b[0m \u001b[0mb\u001b[0m \u001b[0;34m=\u001b[0m \u001b[0mArray\u001b[0m\u001b[0;34m(\u001b[0m\u001b[0;34m[\u001b[0m\u001b[0;36m4\u001b[0m\u001b[0;34m,\u001b[0m\u001b[0;36m5\u001b[0m\u001b[0;34m,\u001b[0m\u001b[0;36m6\u001b[0m\u001b[0;34m,\u001b[0m\u001b[0;36m7\u001b[0m\u001b[0;34m]\u001b[0m\u001b[0;34m)\u001b[0m\u001b[0;34m\u001b[0m\u001b[0;34m\u001b[0m\u001b[0m\n\u001b[0;32m----> 3\u001b[0;31m \u001b[0mprint\u001b[0m\u001b[0;34m(\u001b[0m\u001b[0ma\u001b[0m \u001b[0;34m+\u001b[0m \u001b[0mb\u001b[0m\u001b[0;34m)\u001b[0m\u001b[0;34m\u001b[0m\u001b[0;34m\u001b[0m\u001b[0m\n\u001b[0m",
      "\u001b[0;32m<ipython-input-14-ae409ef0d59e>\u001b[0m in \u001b[0;36m__add__\u001b[0;34m(self, other)\u001b[0m\n\u001b[1;32m     12\u001b[0m         \u001b[0;32melif\u001b[0m \u001b[0misinstance\u001b[0m\u001b[0;34m(\u001b[0m\u001b[0mother\u001b[0m\u001b[0;34m,\u001b[0m \u001b[0;34m(\u001b[0m\u001b[0mArray\u001b[0m\u001b[0;34m,\u001b[0m \u001b[0mlist\u001b[0m\u001b[0;34m,\u001b[0m \u001b[0mtuple\u001b[0m\u001b[0;34m)\u001b[0m\u001b[0;34m)\u001b[0m\u001b[0;34m:\u001b[0m\u001b[0;34m\u001b[0m\u001b[0;34m\u001b[0m\u001b[0m\n\u001b[1;32m     13\u001b[0m             \u001b[0;32mif\u001b[0m \u001b[0mlen\u001b[0m\u001b[0;34m(\u001b[0m\u001b[0mself\u001b[0m\u001b[0;34m)\u001b[0m \u001b[0;34m!=\u001b[0m \u001b[0mlen\u001b[0m\u001b[0;34m(\u001b[0m\u001b[0mother\u001b[0m\u001b[0;34m)\u001b[0m\u001b[0;34m:\u001b[0m\u001b[0;34m\u001b[0m\u001b[0;34m\u001b[0m\u001b[0m\n\u001b[0;32m---> 14\u001b[0;31m                 \u001b[0;32mraise\u001b[0m \u001b[0mValueError\u001b[0m\u001b[0;34m(\u001b[0m\u001b[0;34m'Сложение векторов разной длины недопустимо'\u001b[0m\u001b[0;34m)\u001b[0m\u001b[0;34m\u001b[0m\u001b[0;34m\u001b[0m\u001b[0m\n\u001b[0m\u001b[1;32m     15\u001b[0m             \u001b[0;32melse\u001b[0m\u001b[0;34m:\u001b[0m\u001b[0;34m\u001b[0m\u001b[0;34m\u001b[0m\u001b[0m\n\u001b[1;32m     16\u001b[0m                 \u001b[0;32mreturn\u001b[0m \u001b[0mArray\u001b[0m\u001b[0;34m(\u001b[0m\u001b[0;34m[\u001b[0m\u001b[0mx\u001b[0m \u001b[0;34m+\u001b[0m \u001b[0my\u001b[0m \u001b[0;32mfor\u001b[0m \u001b[0mx\u001b[0m\u001b[0;34m,\u001b[0m \u001b[0my\u001b[0m \u001b[0;32min\u001b[0m \u001b[0mzip\u001b[0m\u001b[0;34m(\u001b[0m\u001b[0mself\u001b[0m\u001b[0;34m,\u001b[0m \u001b[0mother\u001b[0m\u001b[0;34m)\u001b[0m\u001b[0;34m]\u001b[0m\u001b[0;34m)\u001b[0m\u001b[0;34m\u001b[0m\u001b[0;34m\u001b[0m\u001b[0m\n",
      "\u001b[0;31mValueError\u001b[0m: Сложение векторов разной длины недопустимо"
     ]
    }
   ],
   "source": [
    "a = Array([1,2,3])\n",
    "b = Array([4,5,6,7])\n",
    "print(a + b)"
   ]
  },
  {
   "cell_type": "code",
   "execution_count": 38,
   "metadata": {},
   "outputs": [
    {
     "ename": "TypeError",
     "evalue": "Вектор нельзя сложить с <class 'dict'>",
     "output_type": "error",
     "traceback": [
      "\u001b[0;31m---------------------------------------------------------------------------\u001b[0m",
      "\u001b[0;31mTypeError\u001b[0m                                 Traceback (most recent call last)",
      "\u001b[0;32m<ipython-input-38-cb1188fda971>\u001b[0m in \u001b[0;36m<module>\u001b[0;34m\u001b[0m\n\u001b[0;32m----> 1\u001b[0;31m \u001b[0mprint\u001b[0m\u001b[0;34m(\u001b[0m\u001b[0ma\u001b[0m \u001b[0;34m+\u001b[0m \u001b[0mdict\u001b[0m\u001b[0;34m)\u001b[0m\u001b[0;34m\u001b[0m\u001b[0;34m\u001b[0m\u001b[0m\n\u001b[0m",
      "\u001b[0;32m<ipython-input-14-ae409ef0d59e>\u001b[0m in \u001b[0;36m__add__\u001b[0;34m(self, other)\u001b[0m\n\u001b[1;32m     16\u001b[0m                 \u001b[0;32mreturn\u001b[0m \u001b[0mArray\u001b[0m\u001b[0;34m(\u001b[0m\u001b[0;34m[\u001b[0m\u001b[0mx\u001b[0m \u001b[0;34m+\u001b[0m \u001b[0my\u001b[0m \u001b[0;32mfor\u001b[0m \u001b[0mx\u001b[0m\u001b[0;34m,\u001b[0m \u001b[0my\u001b[0m \u001b[0;32min\u001b[0m \u001b[0mzip\u001b[0m\u001b[0;34m(\u001b[0m\u001b[0mself\u001b[0m\u001b[0;34m,\u001b[0m \u001b[0mother\u001b[0m\u001b[0;34m)\u001b[0m\u001b[0;34m]\u001b[0m\u001b[0;34m)\u001b[0m\u001b[0;34m\u001b[0m\u001b[0;34m\u001b[0m\u001b[0m\n\u001b[1;32m     17\u001b[0m         \u001b[0;32melse\u001b[0m\u001b[0;34m:\u001b[0m\u001b[0;34m\u001b[0m\u001b[0;34m\u001b[0m\u001b[0m\n\u001b[0;32m---> 18\u001b[0;31m             \u001b[0;32mraise\u001b[0m \u001b[0mTypeError\u001b[0m\u001b[0;34m(\u001b[0m\u001b[0;34mf\"Вектор нельзя сложить с {other}\"\u001b[0m\u001b[0;34m)\u001b[0m\u001b[0;34m\u001b[0m\u001b[0;34m\u001b[0m\u001b[0m\n\u001b[0m\u001b[1;32m     19\u001b[0m     \u001b[0;34m\"\"\"Сложение, когда аргумент справа\"\"\"\u001b[0m\u001b[0;34m\u001b[0m\u001b[0;34m\u001b[0m\u001b[0m\n\u001b[1;32m     20\u001b[0m     \u001b[0;32mdef\u001b[0m \u001b[0m__radd__\u001b[0m\u001b[0;34m(\u001b[0m\u001b[0mself\u001b[0m\u001b[0;34m,\u001b[0m \u001b[0mother\u001b[0m\u001b[0;34m)\u001b[0m\u001b[0;34m:\u001b[0m\u001b[0;34m\u001b[0m\u001b[0;34m\u001b[0m\u001b[0m\n",
      "\u001b[0;31mTypeError\u001b[0m: Вектор нельзя сложить с <class 'dict'>"
     ]
    }
   ],
   "source": [
    "print(a + dict)"
   ]
  },
  {
   "cell_type": "code",
   "execution_count": 39,
   "metadata": {},
   "outputs": [
    {
     "ename": "TypeError",
     "evalue": "Вектор нельзя умножить с <class 'dict'>",
     "output_type": "error",
     "traceback": [
      "\u001b[0;31m---------------------------------------------------------------------------\u001b[0m",
      "\u001b[0;31mTypeError\u001b[0m                                 Traceback (most recent call last)",
      "\u001b[0;32m<ipython-input-39-dc3009138921>\u001b[0m in \u001b[0;36m<module>\u001b[0;34m\u001b[0m\n\u001b[0;32m----> 1\u001b[0;31m \u001b[0mprint\u001b[0m\u001b[0;34m(\u001b[0m\u001b[0ma\u001b[0m \u001b[0;34m*\u001b[0m \u001b[0mdict\u001b[0m\u001b[0;34m)\u001b[0m\u001b[0;34m\u001b[0m\u001b[0;34m\u001b[0m\u001b[0m\n\u001b[0m",
      "\u001b[0;32m<ipython-input-14-ae409ef0d59e>\u001b[0m in \u001b[0;36m__mul__\u001b[0;34m(self, other)\u001b[0m\n\u001b[1;32m     52\u001b[0m                 \u001b[0;32mreturn\u001b[0m \u001b[0mArray\u001b[0m\u001b[0;34m(\u001b[0m\u001b[0;34m[\u001b[0m\u001b[0mx\u001b[0m \u001b[0;34m*\u001b[0m \u001b[0my\u001b[0m \u001b[0;32mfor\u001b[0m \u001b[0mx\u001b[0m\u001b[0;34m,\u001b[0m \u001b[0my\u001b[0m \u001b[0;32min\u001b[0m \u001b[0mzip\u001b[0m\u001b[0;34m(\u001b[0m\u001b[0mself\u001b[0m\u001b[0;34m,\u001b[0m \u001b[0mother\u001b[0m\u001b[0;34m)\u001b[0m\u001b[0;34m]\u001b[0m\u001b[0;34m)\u001b[0m\u001b[0;34m\u001b[0m\u001b[0;34m\u001b[0m\u001b[0m\n\u001b[1;32m     53\u001b[0m         \u001b[0;32melse\u001b[0m\u001b[0;34m:\u001b[0m\u001b[0;34m\u001b[0m\u001b[0;34m\u001b[0m\u001b[0m\n\u001b[0;32m---> 54\u001b[0;31m             \u001b[0;32mraise\u001b[0m \u001b[0mTypeError\u001b[0m\u001b[0;34m(\u001b[0m\u001b[0;34mf\"Вектор нельзя умножить с {other}\"\u001b[0m\u001b[0;34m)\u001b[0m\u001b[0;34m\u001b[0m\u001b[0;34m\u001b[0m\u001b[0m\n\u001b[0m\u001b[1;32m     55\u001b[0m     \u001b[0;34m\"\"\"Умножение, когда аргумент справа\"\"\"\u001b[0m\u001b[0;34m\u001b[0m\u001b[0;34m\u001b[0m\u001b[0m\n\u001b[1;32m     56\u001b[0m     \u001b[0;32mdef\u001b[0m \u001b[0m__rmul__\u001b[0m\u001b[0;34m(\u001b[0m\u001b[0mself\u001b[0m\u001b[0;34m,\u001b[0m \u001b[0mother\u001b[0m\u001b[0;34m)\u001b[0m\u001b[0;34m:\u001b[0m\u001b[0;34m\u001b[0m\u001b[0;34m\u001b[0m\u001b[0m\n",
      "\u001b[0;31mTypeError\u001b[0m: Вектор нельзя умножить с <class 'dict'>"
     ]
    }
   ],
   "source": [
    "print(a * dict)"
   ]
  },
  {
   "cell_type": "code",
   "execution_count": null,
   "metadata": {},
   "outputs": [],
   "source": []
  },
  {
   "cell_type": "code",
   "execution_count": 127,
   "metadata": {},
   "outputs": [],
   "source": [
    "n = np.array([1,2,3])"
   ]
  },
  {
   "cell_type": "code",
   "execution_count": 128,
   "metadata": {},
   "outputs": [
    {
     "data": {
      "text/plain": [
       "array([ True,  True,  True])"
      ]
     },
     "execution_count": 128,
     "metadata": {},
     "output_type": "execute_result"
    }
   ],
   "source": [
    "a == n"
   ]
  },
  {
   "cell_type": "code",
   "execution_count": 129,
   "metadata": {},
   "outputs": [
    {
     "ename": "ValueError",
     "evalue": "operands could not be broadcast together with shapes (3,) (4,) ",
     "output_type": "error",
     "traceback": [
      "\u001b[0;31m---------------------------------------------------------------------------\u001b[0m",
      "\u001b[0;31mValueError\u001b[0m                                Traceback (most recent call last)",
      "\u001b[0;32m<ipython-input-129-73f0992b3276>\u001b[0m in \u001b[0;36m<module>\u001b[0;34m\u001b[0m\n\u001b[0;32m----> 1\u001b[0;31m \u001b[0mnp\u001b[0m\u001b[0;34m.\u001b[0m\u001b[0marray\u001b[0m\u001b[0;34m(\u001b[0m\u001b[0;34m[\u001b[0m\u001b[0;36m1\u001b[0m\u001b[0;34m,\u001b[0m\u001b[0;36m2\u001b[0m\u001b[0;34m,\u001b[0m\u001b[0;36m3\u001b[0m\u001b[0;34m]\u001b[0m\u001b[0;34m)\u001b[0m \u001b[0;34m*\u001b[0m \u001b[0mnp\u001b[0m\u001b[0;34m.\u001b[0m\u001b[0marray\u001b[0m\u001b[0;34m(\u001b[0m\u001b[0;34m[\u001b[0m\u001b[0;36m1\u001b[0m\u001b[0;34m,\u001b[0m\u001b[0;36m2\u001b[0m\u001b[0;34m,\u001b[0m\u001b[0;36m3\u001b[0m\u001b[0;34m,\u001b[0m \u001b[0;36m4\u001b[0m\u001b[0;34m]\u001b[0m\u001b[0;34m)\u001b[0m\u001b[0;34m\u001b[0m\u001b[0;34m\u001b[0m\u001b[0m\n\u001b[0m",
      "\u001b[0;31mValueError\u001b[0m: operands could not be broadcast together with shapes (3,) (4,) "
     ]
    }
   ],
   "source": [
    "np.array([1,2,3]) * np.array([1,2,3, 4])"
   ]
  },
  {
   "cell_type": "code",
   "execution_count": 130,
   "metadata": {},
   "outputs": [
    {
     "ename": "TypeError",
     "evalue": "unsupported operand type(s) for *: 'int' and 'type'",
     "output_type": "error",
     "traceback": [
      "\u001b[0;31m---------------------------------------------------------------------------\u001b[0m",
      "\u001b[0;31mTypeError\u001b[0m                                 Traceback (most recent call last)",
      "\u001b[0;32m<ipython-input-130-8d5cbccf6e97>\u001b[0m in \u001b[0;36m<module>\u001b[0;34m\u001b[0m\n\u001b[0;32m----> 1\u001b[0;31m \u001b[0mnp\u001b[0m\u001b[0;34m.\u001b[0m\u001b[0marray\u001b[0m\u001b[0;34m(\u001b[0m\u001b[0;34m[\u001b[0m\u001b[0;36m1\u001b[0m\u001b[0;34m,\u001b[0m\u001b[0;36m2\u001b[0m\u001b[0;34m,\u001b[0m\u001b[0;36m3\u001b[0m\u001b[0;34m]\u001b[0m\u001b[0;34m)\u001b[0m \u001b[0;34m*\u001b[0m \u001b[0mdict\u001b[0m\u001b[0;34m\u001b[0m\u001b[0;34m\u001b[0m\u001b[0m\n\u001b[0m",
      "\u001b[0;31mTypeError\u001b[0m: unsupported operand type(s) for *: 'int' and 'type'"
     ]
    }
   ],
   "source": [
    "np.array([1,2,3]) * dict"
   ]
  },
  {
   "cell_type": "code",
   "execution_count": 131,
   "metadata": {},
   "outputs": [],
   "source": [
    "list1 = [[1,2,3], [4,5,6], [7,8,9]]\n",
    "a = Array(list1)\n",
    "b = np.array(list1)"
   ]
  },
  {
   "cell_type": "code",
   "execution_count": 132,
   "metadata": {},
   "outputs": [
    {
     "ename": "IndexError",
     "evalue": "Слишком много индексов для массива этого пространства",
     "output_type": "error",
     "traceback": [
      "\u001b[0;31m---------------------------------------------------------------------------\u001b[0m",
      "\u001b[0;31mIndexError\u001b[0m                                Traceback (most recent call last)",
      "\u001b[0;32m<ipython-input-132-8787e0944294>\u001b[0m in \u001b[0;36m<module>\u001b[0;34m\u001b[0m\n\u001b[0;32m----> 1\u001b[0;31m \u001b[0ma\u001b[0m\u001b[0;34m[\u001b[0m\u001b[0;36m1\u001b[0m\u001b[0;34m,\u001b[0m\u001b[0;36m1\u001b[0m\u001b[0;34m,\u001b[0m\u001b[0;36m1\u001b[0m\u001b[0;34m]\u001b[0m\u001b[0;34m\u001b[0m\u001b[0;34m\u001b[0m\u001b[0m\n\u001b[0m",
      "\u001b[0;32m<ipython-input-100-ae409ef0d59e>\u001b[0m in \u001b[0;36m__getitem__\u001b[0;34m(self, item)\u001b[0m\n\u001b[1;32m     91\u001b[0m                 \u001b[0;32mwhile\u001b[0m \u001b[0mlen\u001b[0m\u001b[0;34m(\u001b[0m\u001b[0mitem\u001b[0m\u001b[0;34m)\u001b[0m \u001b[0;34m>\u001b[0m \u001b[0;36m0\u001b[0m\u001b[0;34m:\u001b[0m\u001b[0;34m\u001b[0m\u001b[0;34m\u001b[0m\u001b[0m\n\u001b[1;32m     92\u001b[0m                     \u001b[0;32mif\u001b[0m \u001b[0misinstance\u001b[0m\u001b[0;34m(\u001b[0m\u001b[0mself\u001b[0m\u001b[0;34m,\u001b[0m \u001b[0;34m(\u001b[0m\u001b[0mint\u001b[0m\u001b[0;34m,\u001b[0m \u001b[0mfloat\u001b[0m\u001b[0;34m)\u001b[0m\u001b[0;34m)\u001b[0m \u001b[0;32mor\u001b[0m \u001b[0mitem\u001b[0m \u001b[0;34m==\u001b[0m \u001b[0;32mNone\u001b[0m \u001b[0;34m:\u001b[0m\u001b[0;34m\u001b[0m\u001b[0;34m\u001b[0m\u001b[0m\n\u001b[0;32m---> 93\u001b[0;31m                         \u001b[0;32mraise\u001b[0m \u001b[0mIndexError\u001b[0m\u001b[0;34m(\u001b[0m\u001b[0;34m'Слишком много индексов для массива этого пространства'\u001b[0m\u001b[0;34m)\u001b[0m\u001b[0;34m\u001b[0m\u001b[0;34m\u001b[0m\u001b[0m\n\u001b[0m\u001b[1;32m     94\u001b[0m                     \u001b[0mself\u001b[0m \u001b[0;34m=\u001b[0m \u001b[0mself\u001b[0m\u001b[0;34m[\u001b[0m\u001b[0mitem\u001b[0m\u001b[0;34m[\u001b[0m\u001b[0;36m0\u001b[0m\u001b[0;34m]\u001b[0m\u001b[0;34m]\u001b[0m\u001b[0;34m\u001b[0m\u001b[0;34m\u001b[0m\u001b[0m\n\u001b[1;32m     95\u001b[0m                     \u001b[0mitem\u001b[0m \u001b[0;34m=\u001b[0m \u001b[0mitem\u001b[0m\u001b[0;34m[\u001b[0m\u001b[0;36m1\u001b[0m\u001b[0;34m:\u001b[0m\u001b[0;34m]\u001b[0m\u001b[0;34m\u001b[0m\u001b[0;34m\u001b[0m\u001b[0m\n",
      "\u001b[0;31mIndexError\u001b[0m: Слишком много индексов для массива этого пространства"
     ]
    }
   ],
   "source": [
    "a[1,1,1]"
   ]
  },
  {
   "cell_type": "code",
   "execution_count": 133,
   "metadata": {},
   "outputs": [
    {
     "ename": "IndexError",
     "evalue": "too many indices for array: array is 2-dimensional, but 3 were indexed",
     "output_type": "error",
     "traceback": [
      "\u001b[0;31m---------------------------------------------------------------------------\u001b[0m",
      "\u001b[0;31mIndexError\u001b[0m                                Traceback (most recent call last)",
      "\u001b[0;32m<ipython-input-133-0d39a655898f>\u001b[0m in \u001b[0;36m<module>\u001b[0;34m\u001b[0m\n\u001b[0;32m----> 1\u001b[0;31m \u001b[0mb\u001b[0m\u001b[0;34m[\u001b[0m\u001b[0;36m1\u001b[0m\u001b[0;34m,\u001b[0m\u001b[0;36m1\u001b[0m\u001b[0;34m,\u001b[0m\u001b[0;36m1\u001b[0m\u001b[0;34m]\u001b[0m\u001b[0;34m\u001b[0m\u001b[0;34m\u001b[0m\u001b[0m\n\u001b[0m",
      "\u001b[0;31mIndexError\u001b[0m: too many indices for array: array is 2-dimensional, but 3 were indexed"
     ]
    }
   ],
   "source": [
    "b[1,1,1]"
   ]
  },
  {
   "cell_type": "code",
   "execution_count": null,
   "metadata": {},
   "outputs": [],
   "source": []
  },
  {
   "cell_type": "code",
   "execution_count": null,
   "metadata": {},
   "outputs": [],
   "source": []
  },
  {
   "cell_type": "code",
   "execution_count": null,
   "metadata": {},
   "outputs": [],
   "source": []
  }
 ],
 "metadata": {
  "kernelspec": {
   "display_name": "Python 3",
   "language": "python",
   "name": "python3"
  },
  "language_info": {
   "codemirror_mode": {
    "name": "ipython",
    "version": 3
   },
   "file_extension": ".py",
   "mimetype": "text/x-python",
   "name": "python",
   "nbconvert_exporter": "python",
   "pygments_lexer": "ipython3",
   "version": "3.8.8"
  }
 },
 "nbformat": 4,
 "nbformat_minor": 4
}
